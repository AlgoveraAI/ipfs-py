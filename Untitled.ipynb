{
 "cells": [
  {
   "cell_type": "code",
   "execution_count": 11,
   "id": "a2f5289e",
   "metadata": {},
   "outputs": [],
   "source": [
    "from ipfspy.ipfshttpapi import IPFSApi"
   ]
  },
  {
   "cell_type": "code",
   "execution_count": 12,
   "id": "4cf4bdd8",
   "metadata": {},
   "outputs": [
    {
     "name": "stdout",
     "output_type": "stream",
     "text": [
      "Changed to local node\n"
     ]
    }
   ],
   "source": [
    "api = IPFSApi()"
   ]
  },
  {
   "cell_type": "code",
   "execution_count": 14,
   "id": "6eada4c3",
   "metadata": {},
   "outputs": [
    {
     "name": "stdout",
     "output_type": "stream",
     "text": [
      "Changed to infura node\n"
     ]
    }
   ],
   "source": [
    "api.change_gateway_type = 'infura', None"
   ]
  },
  {
   "cell_type": "code",
   "execution_count": null,
   "id": "5d3d1131",
   "metadata": {},
   "outputs": [],
   "source": []
  }
 ],
 "metadata": {
  "kernelspec": {
   "display_name": "Python 3 (ipykernel)",
   "language": "python",
   "name": "python3"
  },
  "language_info": {
   "codemirror_mode": {
    "name": "ipython",
    "version": 3
   },
   "file_extension": ".py",
   "mimetype": "text/x-python",
   "name": "python",
   "nbconvert_exporter": "python",
   "pygments_lexer": "ipython3",
   "version": "3.10.8"
  }
 },
 "nbformat": 4,
 "nbformat_minor": 5
}
