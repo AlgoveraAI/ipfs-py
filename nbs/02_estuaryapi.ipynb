{
 "cells": [
  {
   "cell_type": "code",
   "execution_count": null,
   "metadata": {},
   "outputs": [],
   "source": [
    "# default_exp estuaryapi"
   ]
  },
  {
   "cell_type": "markdown",
   "metadata": {},
   "source": [
    "## Estuary\n",
    "> Python API for interacting with Estuary"
   ]
  },
  {
   "cell_type": "code",
   "execution_count": null,
   "metadata": {},
   "outputs": [],
   "source": [
    "#hide\n",
    "from nbdev.showdoc import *"
   ]
  },
  {
   "cell_type": "code",
   "execution_count": null,
   "metadata": {},
   "outputs": [],
   "source": [
    "#hide\n",
    "import requests"
   ]
  },
  {
   "cell_type": "code",
   "execution_count": null,
   "metadata": {},
   "outputs": [],
   "source": [
    "#export\n",
    "def est_get_public_stats():\n",
    "    return requests.get('https://api.estuary.tech/public/stats')"
   ]
  },
  {
   "cell_type": "code",
   "execution_count": null,
   "metadata": {},
   "outputs": [],
   "source": [
    "#export\n",
    "def est_get_viewer(api_key):\n",
    "    headers = {\n",
    "    'Authorization': f'Bearer {api_key}',\n",
    "    }\n",
    "\n",
    "    response = requests.get('https://api.estuary.tech/viewer', headers=headers)\n",
    "    return response"
   ]
  },
  {
   "cell_type": "code",
   "execution_count": null,
   "metadata": {},
   "outputs": [],
   "source": [
    "#export\n",
    "def est_upload(api_key, path_to_file):\n",
    "    headers = {\n",
    "    'Authorization': f'Bearer {api_key}',\n",
    "    # requests won't add a boundary if this header is set when you pass files=\n",
    "    # 'Content-Type': 'multipart/form-data',\n",
    "    }\n",
    "\n",
    "    files = {\n",
    "        'data': open('{path_to_file}', 'rb'),\n",
    "    }\n",
    "\n",
    "    response = requests.post('https://api.estuary.tech/content/add', headers=headers, files=files)\n",
    "    return response"
   ]
  },
  {
   "cell_type": "code",
   "execution_count": null,
   "metadata": {},
   "outputs": [],
   "source": [
    "#export\n",
    "def est_list_data(api_key):\n",
    "    headers = {\n",
    "    'Authorization': f'Bearer {api_key}',\n",
    "    }\n",
    "\n",
    "    response = requests.get('https://api.estuary.tech/content/list', headers=headers)\n",
    "    return response"
   ]
  },
  {
   "cell_type": "markdown",
   "metadata": {},
   "source": [
    "## Estuary Collections"
   ]
  },
  {
   "cell_type": "code",
   "execution_count": null,
   "metadata": {},
   "outputs": [],
   "source": [
    "#export\n",
    "# creating a collection\n",
    "def est_create_collection(api_key, name, description):\n",
    "    headers = {\n",
    "    # Already added when you pass json= but not when you pass data=\n",
    "    # 'Content-Type': 'application/json',\n",
    "    'Authorization': f'Bearer {api_key}',\n",
    "    }\n",
    "\n",
    "    json_data = {\n",
    "        'name': f'{name}',\n",
    "        'description': f'{description}',\n",
    "    }\n",
    "\n",
    "    response = requests.post('https://api.estuary.tech/collections/create', headers=headers, json=json_data)\n",
    "\n",
    "    # Note: json_data will not be serialized by requests\n",
    "    # exactly as it was in the original request.\n",
    "    #data = '{ \"name\": \"My super nice new collection\", \"description\": \"This collection holds only the best content\" }'\n",
    "    #response = requests.post('https://api.estuary.tech/collections/create', headers=headers, data=data)\n",
    "    return response"
   ]
  },
  {
   "cell_type": "code",
   "execution_count": null,
   "metadata": {},
   "outputs": [],
   "source": [
    "#export\n",
    "# Adding a file to a collection\n",
    "def est_add_file_to_collection(api_key, cids: list, collection: str): \n",
    "    headers = {\n",
    "        'Content-Type': 'application/json',\n",
    "        'Authorization': f'Bearer {api_key}',\n",
    "    }\n",
    "\n",
    "    data = f'{ \"contents\": [], \"cids\": {cids}, \"collection\": {collection} }'\n",
    "\n",
    "    response = requests.post('https://api.estuary.tech/collections/add-content', headers=headers, data=data)\n",
    "    return response"
   ]
  },
  {
   "cell_type": "markdown",
   "metadata": {},
   "source": [
    "## Main Estuary API\n",
    "> Below are all the commands available for interacting with Estuary"
   ]
  },
  {
   "cell_type": "markdown",
   "metadata": {},
   "source": [
    "### Standard IPFS Pinning API"
   ]
  },
  {
   "cell_type": "code",
   "execution_count": null,
   "metadata": {},
   "outputs": [],
   "source": [
    "#export\n",
    "# list pins\n",
    "def list_pins(api_key):\n",
    "    headers = {\n",
    "    'Content-Type': 'application/json',\n",
    "    'Authorization': f'Bearer {api_key}',\n",
    "    }\n",
    "\n",
    "    response = requests.get('https://api.estuary.tech/pinning/pins', headers=headers)\n",
    "    return response.json()"
   ]
  },
  {
   "cell_type": "code",
   "execution_count": null,
   "metadata": {},
   "outputs": [],
   "source": [
    "#export\n",
    "# add pin\n",
    "def add_pin(api_key, name, cid):\n",
    "    headers = {\n",
    "    # Already added when you pass json= but not when you pass data=\n",
    "    # 'Content-Type': 'application/json',\n",
    "    'Authorization': f'Bearer {api_key}',\n",
    "    }\n",
    "\n",
    "    json_data = {\n",
    "        'name': name,\n",
    "        'cid': cid,\n",
    "    }\n",
    "\n",
    "    response = requests.post('https://api.estuary.tech/pinning/pins', headers=headers, json=json_data)\n",
    "    return response.json()"
   ]
  },
  {
   "cell_type": "code",
   "execution_count": null,
   "metadata": {},
   "outputs": [],
   "source": [
    "#export\n",
    "# get pin by ID\n",
    "def get_pin(api_key, pin_id):\n",
    "    headers = {\n",
    "    'Content-Type': 'application/json',\n",
    "    'Authorization': f'Bearer {api_key}',\n",
    "    }\n",
    "\n",
    "    response = requests.get(f'https://api.estuary.tech/pinning/pins/{pin_id}', headers=headers)\n",
    "    return response.json()"
   ]
  },
  {
   "cell_type": "code",
   "execution_count": null,
   "metadata": {},
   "outputs": [],
   "source": [
    "#export\n",
    "# replace pin by ID\n",
    "def replace_pin(api_key, pin_id):\n",
    "    headers = {\n",
    "    'Content-Type': 'application/json',\n",
    "    'Authorization': f'Bearer {api_key}',\n",
    "    }\n",
    "\n",
    "    response = requests.post(f'https://api.estuary.tech/pinning/pins/{pin_id}', headers=headers)\n",
    "    return response.json()"
   ]
  },
  {
   "cell_type": "code",
   "execution_count": null,
   "metadata": {},
   "outputs": [],
   "source": [
    "#export\n",
    "# remove pin by ID\n",
    "def remove_pin(api_key, pin_id):\n",
    "    headers = {\n",
    "    'Content-Type': 'application/json',\n",
    "    'Authorization': f'Bearer {api_key}',\n",
    "    }\n",
    "\n",
    "    response = requests.delete(f'https://api.estuary.tech/pinning/pins/{pin_id}', headers=headers)\n",
    "    return response.json()"
   ]
  },
  {
   "cell_type": "markdown",
   "metadata": {},
   "source": [
    "### Collections"
   ]
  },
  {
   "cell_type": "code",
   "execution_count": null,
   "metadata": {},
   "outputs": [],
   "source": [
    "#export\n",
    "# create new collection\n",
    "def create_coll(api_key, name, description):\n",
    "    headers = {\n",
    "    # Already added when you pass json= but not when you pass data=\n",
    "    # 'Content-Type': 'application/json',\n",
    "    'Authorization': f'Bearer {api_key}',\n",
    "    }\n",
    "\n",
    "    json_data = {\n",
    "        'name': name,\n",
    "        'description': description,\n",
    "    }\n",
    "\n",
    "    response = requests.post('https://api.estuary.tech/collections/create', headers=headers, json=json_data)\n",
    "    return response.json()"
   ]
  },
  {
   "cell_type": "code",
   "execution_count": null,
   "metadata": {},
   "outputs": [],
   "source": [
    "#export\n",
    "# add content\n",
    "def add_content(api_key, collection_id):\n",
    "    headers = {\n",
    "    # Already added when you pass json= but not when you pass data=\n",
    "    # 'Content-Type': 'application/json',\n",
    "    'Authorization': f'Bearer {api_key}',\n",
    "    }\n",
    "\n",
    "    json_data = {\n",
    "        'contents': [],\n",
    "        'cids': [],\n",
    "        'collection': collection_id,\n",
    "    }\n",
    "\n",
    "    response = requests.post('https://api.estuary.tech/collections/add-content', headers=headers, json=json_data)\n",
    "    return response.json()"
   ]
  },
  {
   "cell_type": "code",
   "execution_count": null,
   "metadata": {},
   "outputs": [],
   "source": [
    "#export\n",
    "# list collections\n",
    "def list_colls(api_key):\n",
    "    headers = {\n",
    "    'Authorization': f'Bearer {api_key}',\n",
    "    }\n",
    "\n",
    "    response = requests.get('https://api.estuary.tech/collections/list', headers=headers)\n",
    "    return response.json()"
   ]
  },
  {
   "cell_type": "code",
   "execution_count": null,
   "metadata": {},
   "outputs": [],
   "source": [
    "#export\n",
    "# list collection content\n",
    "def list_coll_content(api_key, collection_id):\n",
    "    headers = {\n",
    "    'Authorization': f'Bearer {api_key}',\n",
    "    }\n",
    "\n",
    "    response = requests.get(f'https://api.estuary.tech/collections/content/{collection_id}', headers=headers)\n",
    "    return response.json()"
   ]
  },
  {
   "cell_type": "code",
   "execution_count": null,
   "metadata": {},
   "outputs": [],
   "source": [
    "#export\n",
    "# FS list content of a path\n",
    "def list_content_path(api_key, collection):\n",
    "    headers = {\n",
    "    'Authorization': f'Bearer {api_key}',\n",
    "    }\n",
    "\n",
    "    params = {\n",
    "        'col': collection,\n",
    "    }\n",
    "\n",
    "    response = requests.get('https://api.estuary.tech/collections/fs/list', params=params, headers=headers)\n",
    "    return response.json()"
   ]
  },
  {
   "cell_type": "code",
   "execution_count": null,
   "metadata": {},
   "outputs": [],
   "source": [
    "#export\n",
    "# FS add content to path\n",
    "def add_content_path(api_key, collection):\n",
    "    headers = {\n",
    "    'Content-Type': 'application/json',\n",
    "    'Authorization': f'Bearer {api_key}',\n",
    "    }\n",
    "\n",
    "    params = {\n",
    "        'col': collection,\n",
    "    }\n",
    "\n",
    "    response = requests.post('https://api.estuary.tech/collections/fs/add', params=params, headers=headers)\n",
    "    return response.json()"
   ]
  },
  {
   "cell_type": "markdown",
   "metadata": {},
   "source": [
    "### Estuary base API"
   ]
  },
  {
   "cell_type": "code",
   "execution_count": null,
   "metadata": {},
   "outputs": [],
   "source": [
    "#export\n",
    "# add client safe upload key\n",
    "def add_key(api_key, expiry='24h'):\n",
    "    headers = {\n",
    "    'Authorization': f'Bearer {api_key}',\n",
    "    'Accept': 'application/json',\n",
    "    }\n",
    "\n",
    "    params = {\n",
    "        'perms': 'upload',\n",
    "        'expiry': expiry,\n",
    "    }\n",
    "\n",
    "    response = requests.post('https://api.estuary.tech/user/api-keys', params=params, headers=headers)\n",
    "    return response.json()"
   ]
  },
  {
   "cell_type": "code",
   "execution_count": null,
   "metadata": {},
   "outputs": [],
   "source": [
    "#export\n",
    "# add data\n",
    "def add_data(api_key, path_to_file):\n",
    "    headers = {\n",
    "    'Authorization': f'Bearer {api_key}',\n",
    "    'Accept': 'application/json',\n",
    "    # requests won't add a boundary if this header is set when you pass files=\n",
    "    # 'Content-Type': 'multipart/form-data',\n",
    "    }\n",
    "\n",
    "    files = {\n",
    "        'data': open(path_to_file, 'rb'),\n",
    "    }\n",
    "\n",
    "    response = requests.post('https://api.estuary.tech/content/add', headers=headers, files=files)\n",
    "    return response.json()"
   ]
  },
  {
   "cell_type": "code",
   "execution_count": null,
   "metadata": {},
   "outputs": [],
   "source": [
    "#export\n",
    "# add CID\n",
    "def add_cid(api_key, name, root):\n",
    "    headers = {\n",
    "    # Already added when you pass json= but not when you pass data=\n",
    "    # 'Content-Type': 'application/json',\n",
    "    'Authorization': f'Bearer {api_key}',\n",
    "    }\n",
    "\n",
    "    json_data = {\n",
    "        'name': name,\n",
    "        'root': root,\n",
    "    }\n",
    "\n",
    "    response = requests.post('https://api.estuary.tech/content/add-ipfs', headers=headers, json=json_data)\n",
    "    return response.json()"
   ]
  },
  {
   "cell_type": "code",
   "execution_count": null,
   "metadata": {},
   "outputs": [],
   "source": [
    "#export\n",
    "# add CAR\n",
    "def add_car(api_key, path_to_file):\n",
    "    headers = {\n",
    "    'Authorization': f'Bearer {api_key}',\n",
    "    'Accept': 'application/json',\n",
    "    }\n",
    "\n",
    "    with open(path_to_file, 'rb') as f:\n",
    "        data = f.read()\n",
    "\n",
    "    response = requests.post('https://api.estuary.tech/content/add-car', headers=headers, data=data)\n",
    "    return response.json()"
   ]
  },
  {
   "cell_type": "code",
   "execution_count": null,
   "metadata": {},
   "outputs": [],
   "source": [
    "#export\n",
    "# make deal with specific provider\n",
    "def make_deal(api_key):\n",
    "    headers = {\n",
    "    'Authorization': f'Bearer {api_key}',\n",
    "    }\n",
    "\n",
    "    json_data = {\n",
    "        'content': content,\n",
    "    }\n",
    "\n",
    "    response = requests.post(f'https://api.estuary.tech/deals/make/{provider}', headers=headers, json=json_data)\n",
    "    return response.json()"
   ]
  },
  {
   "cell_type": "code",
   "execution_count": null,
   "metadata": {},
   "outputs": [],
   "source": [
    "#export\n",
    "# data by CID\n",
    "def add_data_cid(api_key, cid: str):\n",
    "    headers = {\n",
    "    'Authorization': f'Bearer {api_key}',\n",
    "    }\n",
    "    \n",
    "    response = requests.get(f'https://api.estuary.tech/content/by-cid/{cid}', headers=headers)\n",
    "    return response.json()"
   ]
  },
  {
   "cell_type": "code",
   "execution_count": null,
   "metadata": {},
   "outputs": [],
   "source": [
    "#export\n",
    "# list data\n",
    "def list_data(api_key):\n",
    "    headers = {\n",
    "    'Authorization': f'Bearer {api_key}',\n",
    "    }\n",
    "    \n",
    "    response = requests.get('https://api.estuary.tech/content/stats', headers=headers)\n",
    "    return response.json()"
   ]
  },
  {
   "cell_type": "code",
   "execution_count": null,
   "metadata": {},
   "outputs": [],
   "source": [
    "#export\n",
    "# list deals\n",
    "def list_deals(api_key):\n",
    "    headers = {\n",
    "    'Authorization': f'Bearer {api_key}',\n",
    "    }\n",
    "    \n",
    "    response = requests.get('https://api.estuary.tech/content/deals', headers=headers)\n",
    "    return response.json()"
   ]
  },
  {
   "cell_type": "code",
   "execution_count": null,
   "metadata": {},
   "outputs": [],
   "source": [
    "#export\n",
    "# get deal status by id\n",
    "def get_deal_status(api_key, deal_id):\n",
    "    headers = {\n",
    "    'Authorization': f'Bearer {api_key}',\n",
    "    }\n",
    "    \n",
    "    response = requests.get(f'https://api.estuary.tech/content/status/{deal_id}', headers=headers)\n",
    "    return response.json()"
   ]
  },
  {
   "cell_type": "code",
   "execution_count": null,
   "metadata": {},
   "outputs": [],
   "source": [
    "#export\n",
    "# get Estuary node stats\n",
    "def get_node_stats():\n",
    "    response = requests.get('https://api.estuary.tech/public/stats')\n",
    "    return response.json()"
   ]
  },
  {
   "cell_type": "code",
   "execution_count": null,
   "metadata": {},
   "outputs": [],
   "source": [
    "#export\n",
    "# get on chain deal data\n",
    "def get_deal_data():\n",
    "    response = requests.get('https://api.estuary.tech/public/metrics/deals-on-chain')\n",
    "    return response.json()"
   ]
  },
  {
   "cell_type": "code",
   "execution_count": null,
   "metadata": {},
   "outputs": [],
   "source": [
    "#export\n",
    "# get miner query ask\n",
    "def get_miner_ask(id):\n",
    "    response = requests.get(f'https://api.estuary.tech/public/miners/storage/query/{id}')\n",
    "    return response.json()"
   ]
  },
  {
   "cell_type": "code",
   "execution_count": null,
   "metadata": {},
   "outputs": [],
   "source": [
    "#export\n",
    "# get failure logs by provider\n",
    "def get_failure_logs(id):\n",
    "    response = requests.get(f'https://api.estuary.tech/public/miners/failures/{id}')\n",
    "    return response.json()"
   ]
  },
  {
   "cell_type": "code",
   "execution_count": null,
   "metadata": {},
   "outputs": [],
   "source": [
    "#export\n",
    "# get deal logs by provider\n",
    "def get_deal_logs(provider_id):\n",
    "    response = requests.get(f'https://api.estuary.tech/public/miners/deals/{provider_id}')\n",
    "    return response.json()"
   ]
  },
  {
   "cell_type": "code",
   "execution_count": null,
   "metadata": {},
   "outputs": [],
   "source": [
    "#export\n",
    "# get provider stats\n",
    "def get_provider_stats(provider_id):\n",
    "    response = requests.get(f'https://api.estuary.tech/public/miners/stats/{provider_id}')\n",
    "    return response.json()"
   ]
  },
  {
   "cell_type": "code",
   "execution_count": null,
   "metadata": {},
   "outputs": [],
   "source": [
    "#export\n",
    "# list providers\n",
    "def list_providers():\n",
    "    response = requests.get('https://api.estuary.tech/public/miners')\n",
    "    return response.json()"
   ]
  },
  {
   "cell_type": "code",
   "execution_count": null,
   "metadata": {},
   "outputs": [],
   "source": []
  }
 ],
 "metadata": {
  "kernelspec": {
   "display_name": "Python 3 (ipykernel)",
   "language": "python",
   "name": "python3"
  }
 },
 "nbformat": 4,
 "nbformat_minor": 4
}
