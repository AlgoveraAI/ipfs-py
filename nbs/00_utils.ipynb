{
 "cells": [
  {
   "cell_type": "code",
   "execution_count": null,
   "id": "a2919759",
   "metadata": {},
   "outputs": [],
   "source": [
    "# default_exp utils"
   ]
  },
  {
   "cell_type": "markdown",
   "id": "6dfc4c96",
   "metadata": {},
   "source": [
    "# utils\n",
    "\n",
    "> util functions for the immerse library"
   ]
  },
  {
   "cell_type": "code",
   "execution_count": null,
   "id": "c9a21e7f",
   "metadata": {},
   "outputs": [],
   "source": [
    "#hide\n",
    "from nbdev.showdoc import *"
   ]
  },
  {
   "cell_type": "code",
   "execution_count": null,
   "id": "27331a96",
   "metadata": {},
   "outputs": [],
   "source": [
    "#export\n",
    "import requests\n",
    "import json\n",
    "from fastcore.all import *\n",
    "import pandas as pd\n",
    "import dag_cbor"
   ]
  },
  {
   "cell_type": "code",
   "execution_count": null,
   "id": "09026449",
   "metadata": {},
   "outputs": [],
   "source": [
    "#export\n",
    "def get_coreurl(\n",
    "    local:bool=True, # If local uses local node, else uses Infura.io gateway\n",
    "):\n",
    "    'Set the core url for convenience'\n",
    "    if local:\n",
    "        return f\"http://127.0.0.1:5001/api/v0\"\n",
    "    else: \n",
    "        return f\"https://ipfs.infura.io:5001/api/v0\"\n",
    "    \n",
    "\n",
    "def cat_items(\n",
    "    coreurl:str, \n",
    "    cid:str, # The path to the IPFS object(s) to be outputted\n",
    "    **kwargs\n",
    "):\n",
    "    'Show IPFS object data'\n",
    "    \n",
    "    params = {}\n",
    "    params['arg'] = cid\n",
    "    params.update(kwargs)\n",
    "    \n",
    "    return requests.post(f'{coreurl}/cat', params=params)\n",
    "\n",
    "\n",
    "def dag_get(\n",
    "    coreurl:str,\n",
    "    path:str,\n",
    "    output_codec:str='dag-cbor',\n",
    "):\n",
    "    'Get a DAG node from IPFS.'\n",
    "    \n",
    "    params = {}\n",
    "    params['arg'] = path\n",
    "    params['output-codec'] = output_codec\n",
    "    \n",
    "    return requests.post(f'{coreurl}/dag/get', params=params)"
   ]
  },
  {
   "cell_type": "code",
   "execution_count": null,
   "id": "698664ee",
   "metadata": {},
   "outputs": [],
   "source": [
    "#export\n",
    "def parse_response(\n",
    "    response, # Response object\n",
    "):\n",
    "    \"Parse response object into JSON\"\n",
    "    \n",
    "    if response.text.split('\\n')[-1] == \"\":\n",
    "        return [json.loads(each) for each in response.text.split('\\n')[:-1]]\n",
    "    \n",
    "    else:\n",
    "        return response.json()"
   ]
  },
  {
   "cell_type": "code",
   "execution_count": null,
   "id": "b8ba75eb",
   "metadata": {},
   "outputs": [],
   "source": [
    "#export\n",
    "class DownloadDir:\n",
    "    'Download a IPFS directory to your local disk'\n",
    "    def __init__(self,\n",
    "        coreurl:str, \n",
    "        root_cid:str, # Root CID of the directory\n",
    "        output_fol:str, # Path to save in your local disk\n",
    "    ):\n",
    "        \n",
    "        self.url = coreurl\n",
    "        self.root = root_cid\n",
    "        self.output = output_fol\n",
    "        self.full_structure = None\n",
    "        \n",
    "    def _file_or_dir(self, \n",
    "        name\n",
    "        ):\n",
    "        return 'file' if len(name.split('.')) > 1 else 'dir'\n",
    "    \n",
    "    def _get_links(self,\n",
    "        cid, \n",
    "        fol\n",
    "    ):\n",
    "        root_struct = {}\n",
    "        struct = {}\n",
    "\n",
    "        links = dag_cbor.decode(dag_get(self.url, cid).content)['Links']\n",
    "\n",
    "        for link in links:\n",
    "            name = f'{fol}/{link[\"Name\"]}'\n",
    "            hash_ = str(link['Hash'])\n",
    "            type_ = self._file_or_dir(name)\n",
    "\n",
    "            if type_ == 'dir':\n",
    "                details = self._get_links(hash_, name)\n",
    "\n",
    "            else:\n",
    "                details = {'Hash': hash_, 'type': type_}\n",
    "\n",
    "            struct[name] = details\n",
    "\n",
    "        root_struct[fol] = struct\n",
    "\n",
    "        return root_struct\n",
    "    \n",
    "    \n",
    "    def _save_links(self,\n",
    "        links\n",
    "    ):\n",
    "        for k, v in links.items():\n",
    "            if len(k.split('.')) < 2:\n",
    "                if not os.path.exists(k): os.mkdir(k)\n",
    "                self._save_links(v)\n",
    "\n",
    "            else:\n",
    "                data = cat_items(self.url, links[k]['Hash']).content\n",
    "\n",
    "                with open(k, 'wb') as f:\n",
    "                    f.write(data)\n",
    "                    \n",
    "    def download(self\n",
    "    ):\n",
    "        self.full_structure = self._get_links(self.root, self.output)\n",
    "        self._save_links(self.full_structure)\n",
    "        "
   ]
  },
  {
   "cell_type": "code",
   "execution_count": null,
   "id": "2914f258",
   "metadata": {},
   "outputs": [
    {
     "name": "stdout",
     "output_type": "stream",
     "text": [
      "Converted 00_utils.ipynb.\n",
      "Converted 01_httpapi.ipynb.\n",
      "Converted 02_estuaryapi.ipynb.\n",
      "Converted index.ipynb.\n"
     ]
    }
   ],
   "source": [
    "#|hide\n",
    "from nbdev.export import *\n",
    "notebook2script()"
   ]
  },
  {
   "cell_type": "code",
   "execution_count": null,
   "id": "51e4f2db",
   "metadata": {},
   "outputs": [],
   "source": []
  },
  {
   "cell_type": "code",
   "execution_count": null,
   "id": "bdff04fe",
   "metadata": {},
   "outputs": [],
   "source": []
  }
 ],
 "metadata": {
  "kernelspec": {
   "display_name": "Python 3 (ipykernel)",
   "language": "python",
   "name": "python3"
  }
 },
 "nbformat": 4,
 "nbformat_minor": 5
}
