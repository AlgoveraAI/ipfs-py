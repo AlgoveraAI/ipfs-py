{
 "cells": [
  {
   "cell_type": "markdown",
   "id": "bfacc83f-b97b-41f9-84d8-982e5f02f3b7",
   "metadata": {},
   "source": [
    "# Tutorial - Using `ipfspy.ipfspec` to interact with IPFS\n",
    "\n",
    "> A Tutorial on using `ipfspy.ipfsspec`"
   ]
  },
  {
   "cell_type": "code",
   "execution_count": 1,
   "id": "f4fcf438-fbae-477c-979c-416484909342",
   "metadata": {},
   "outputs": [],
   "source": [
    "import fsspec\n",
    "import os\n",
    "from ipfspy.ipfsspec.asyn import AsyncIPFSFileSystem\n",
    "from fsspec import register_implementation\n",
    "import asyncio\n",
    "import io"
   ]
  },
  {
   "cell_type": "code",
   "execution_count": 2,
   "id": "8e97c2f2",
   "metadata": {},
   "outputs": [
    {
     "name": "stdout",
     "output_type": "stream",
     "text": [
      "Changed to local node\n"
     ]
    }
   ],
   "source": [
    "#| ignoretest\n",
    "# register_implementation(IPFSFileSystem.protocol, IPFSFileSystem)\n",
    "register_implementation(AsyncIPFSFileSystem.protocol, AsyncIPFSFileSystem)\n",
    "\n",
    "# with fsspec.open(\"ipfs://QmZ4tDuvesekSs4qM5ZBKpXiZGun7S2CYtEZRB3DYXkjGx\", \"r\") as f:\n",
    "#     print(f.read())\n",
    "class fs:\n",
    "    ipfs = fsspec.filesystem(\"ipfs\")\n",
    "    file = fsspec.filesystem(\"file\")"
   ]
  },
  {
   "cell_type": "markdown",
   "id": "f92e5aa8-206b-422c-bc5a-ac47432b4546",
   "metadata": {},
   "source": [
    "# Put"
   ]
  },
  {
   "cell_type": "markdown",
   "id": "5b7dd6a6-6de8-4a3f-bde0-6bf2ac415571",
   "metadata": {},
   "source": [
    "## Put File"
   ]
  },
  {
   "cell_type": "code",
   "execution_count": null,
   "id": "54c176ec-c22b-4a69-902f-5f64252c5e43",
   "metadata": {},
   "outputs": [
    {
     "data": {
      "text/plain": [
       "[{'name': '/test_put_file/test.txt',\n",
       "  'CID': 'QmbwFKzLj9m2qwBFYTVrBotf4QujvzTb1GBV9wFcNPMctm',\n",
       "  'type': 'file',\n",
       "  'size': 20}]"
      ]
     },
     "execution_count": null,
     "metadata": {},
     "output_type": "execute_result"
    }
   ],
   "source": [
    "#| ignoretest\n",
    "# put in a file and store it into test folder 'fam'\n",
    "fs.ipfs.rm('/test_put_file')\n",
    "put_file_res = fs.ipfs.put(path='output/test.txt', rpath='/test_put_file')\n",
    "fs.ipfs.ls('/test_put_file')"
   ]
  },
  {
   "cell_type": "markdown",
   "id": "df8b353e-658e-4e46-80b5-5080060c898e",
   "metadata": {},
   "source": [
    "## Put Folder"
   ]
  },
  {
   "cell_type": "code",
   "execution_count": null,
   "id": "6b98fe78-b132-4097-a58e-c377c768f7cc",
   "metadata": {},
   "outputs": [
    {
     "data": {
      "text/plain": [
       "[{'name': '/test_dataset',\n",
       "  'CID': 'QmXuV4QHUPyonn82iotczv9pWQndcUt7PFMsJWtTN2Cb1J',\n",
       "  'type': 'directory',\n",
       "  'size': 0},\n",
       " {'name': '/test_get_folder',\n",
       "  'CID': 'QmRWz2opj9To63PX4Jt9uYs39FppGrfbui1BkQjbjmxRiQ',\n",
       "  'type': 'directory',\n",
       "  'size': 0},\n",
       " {'name': '/test_model',\n",
       "  'CID': 'QmZCsKFtvCWr3opi5mkS8Vm288QCD6sxEnUwC2L91knc2r',\n",
       "  'type': 'directory',\n",
       "  'size': 0},\n",
       " {'name': '/test_put_file',\n",
       "  'CID': 'QmcSHBc2XV69PXy6nLQFrHyuNH25JL39VhUYQakiYGn86y',\n",
       "  'type': 'directory',\n",
       "  'size': 0},\n",
       " {'name': '/test_put_folder',\n",
       "  'CID': 'QmRWz2opj9To63PX4Jt9uYs39FppGrfbui1BkQjbjmxRiQ',\n",
       "  'type': 'directory',\n",
       "  'size': 0},\n",
       " {'name': '/test_rm_file',\n",
       "  'CID': 'QmUNLLsPACCz1vLxQVkXqqLX5R1X345qqfHbsf67hvA3Nn',\n",
       "  'type': 'directory',\n",
       "  'size': 0}]"
      ]
     },
     "execution_count": null,
     "metadata": {},
     "output_type": "execute_result"
    }
   ],
   "source": [
    "#| ignoretest\n",
    "# put a directory and store it into test folder\n",
    "fs.ipfs.put(path='output/fol1/fol2', rpath='/test_put_folder' ,recursive=True, return_cid=False)\n",
    "fs.ipfs.ls('/')"
   ]
  },
  {
   "cell_type": "markdown",
   "id": "7fae929e-b00c-41af-9542-a1004a2e1a47",
   "metadata": {},
   "source": [
    "# Cat"
   ]
  },
  {
   "cell_type": "code",
   "execution_count": null,
   "id": "3c9f83cd-5163-46c7-b2ca-ba72b8adf99c",
   "metadata": {},
   "outputs": [
    {
     "data": {
      "text/plain": [
       "[{'name': '/test_put_folder/test.txt',\n",
       "  'CID': 'QmbwFKzLj9m2qwBFYTVrBotf4QujvzTb1GBV9wFcNPMctm',\n",
       "  'type': 'file',\n",
       "  'size': 20},\n",
       " {'name': '/test_put_folder/test2.txt',\n",
       "  'CID': 'QmZCFrtagSLhiHKAywF8oWxapXtR6JiJ8GeENASyhLvvyu',\n",
       "  'type': 'file',\n",
       "  'size': 20},\n",
       " {'name': '/test_put_folder/test3.txt',\n",
       "  'CID': 'QmWT5UmZ4zoXX9GsXpPtEMVP5m1VZ7N6rdxnXHGNkFKqFJ',\n",
       "  'type': 'file',\n",
       "  'size': 28}]"
      ]
     },
     "execution_count": null,
     "metadata": {},
     "output_type": "execute_result"
    }
   ],
   "source": [
    "#| ignoretest\n",
    "fs.ipfs.ls('/test_put_folder')"
   ]
  },
  {
   "cell_type": "code",
   "execution_count": null,
   "id": "8e042ead-6714-4075-892e-bd8847d1d99c",
   "metadata": {},
   "outputs": [
    {
     "name": "stdout",
     "output_type": "stream",
     "text": [
      "b\"\\n'''\\nFirst file\\n'''\\n\"\n",
      "b'```\\nsecond file\\n```\\n'\n"
     ]
    }
   ],
   "source": [
    "#| ignoretest\n",
    "# file\n",
    "print(fs.ipfs.cat_file('/test_put_folder/test.txt'))\n",
    "print(fs.ipfs.cat_file('QmZCFrtagSLhiHKAywF8oWxapXtR6JiJ8GeENASyhLvvyu'))"
   ]
  },
  {
   "cell_type": "code",
   "execution_count": null,
   "id": "7e9156c2-d7b3-466d-a871-980b0728802c",
   "metadata": {},
   "outputs": [
    {
     "name": "stdout",
     "output_type": "stream",
     "text": [
      "{'QmRWz2opj9To63PX4Jt9uYs39FppGrfbui1BkQjbjmxRiQ/test.txt': b\"\\n'''\\nFirst file\\n'''\\n\", 'QmRWz2opj9To63PX4Jt9uYs39FppGrfbui1BkQjbjmxRiQ/test2.txt': b'```\\nsecond file\\n```\\n', 'QmRWz2opj9To63PX4Jt9uYs39FppGrfbui1BkQjbjmxRiQ/test3.txt': b\"\\n'''\\nthis is third file\\n'''\\n\"}\n",
      "{'/test_put_folder/test.txt': b\"\\n'''\\nFirst file\\n'''\\n\", '/test_put_folder/test2.txt': b'```\\nsecond file\\n```\\n', '/test_put_folder/test3.txt': b\"\\n'''\\nthis is third file\\n'''\\n\"}\n"
     ]
    }
   ],
   "source": [
    "#| ignoretest\n",
    "# folder\n",
    "print(fs.ipfs.cat('QmRWz2opj9To63PX4Jt9uYs39FppGrfbui1BkQjbjmxRiQ'))\n",
    "print(fs.ipfs.cat('/test_put_folder'))"
   ]
  },
  {
   "cell_type": "markdown",
   "id": "8909bb3d-8414-47b6-86a9-abe968f2b181",
   "metadata": {},
   "source": [
    "# Remove Folder"
   ]
  },
  {
   "cell_type": "code",
   "execution_count": null,
   "id": "5c8df405-1342-42e9-9b09-602d846c119f",
   "metadata": {},
   "outputs": [
    {
     "name": "stdout",
     "output_type": "stream",
     "text": [
      "QmRWz2opj9To63PX4Jt9uYs39FppGrfbui1BkQjbjmxRiQ\n",
      "Before:  ['/test_rm_folder/test.txt', '/test_rm_folder/test2.txt', '/test_rm_folder/test3.txt']\n",
      "After:  []\n"
     ]
    }
   ],
   "source": [
    "#| ignoretest\n",
    "print(fs.ipfs.put(path='output/fol1/fol2', rpath='/test_rm_folder' ,recursive=True, return_cid=True))\n",
    "print('Before: ',fs.ipfs.ls('/test_rm_folder', detail=False))\n",
    "fs.ipfs.rm('/test_rm_folder')\n",
    "print('After: ',fs.ipfs.ls('/test_rm_folder', detail=False))"
   ]
  },
  {
   "cell_type": "markdown",
   "id": "f697ad53-9d67-40d0-aceb-6f35d73e984f",
   "metadata": {},
   "source": [
    "# Remove File"
   ]
  },
  {
   "cell_type": "code",
   "execution_count": null,
   "id": "b65809b7-19a5-46f7-91aa-8052c8e066ad",
   "metadata": {},
   "outputs": [
    {
     "name": "stdout",
     "output_type": "stream",
     "text": [
      "Before:  ['/test_rm_file/test.txt']\n",
      "After:  []\n"
     ]
    }
   ],
   "source": [
    "#| ignoretest\n",
    "fs.ipfs.put(path='output/test.txt', rpath='/test_rm_file' ,recursive=True, return_cid=False)\n",
    "print('Before: ',fs.ipfs.ls('/test_rm_file', detail=False))\n",
    "\n",
    "fs.ipfs.rm('/test_rm_file/test.txt')\n",
    "print('After: ',fs.ipfs.ls('/test_rm_file', detail=False))"
   ]
  },
  {
   "cell_type": "markdown",
   "id": "ef9a3062-6006-4563-8a8a-6c5a0249c9c3",
   "metadata": {},
   "source": [
    "# Get Function"
   ]
  },
  {
   "cell_type": "markdown",
   "id": "e8836916-6d82-4da1-8ae5-41ac2ed6eb19",
   "metadata": {},
   "source": [
    "## Get Remote File"
   ]
  },
  {
   "cell_type": "code",
   "execution_count": null,
   "id": "5b558d9d-c709-492a-8b31-5eed2259f6bd",
   "metadata": {},
   "outputs": [
    {
     "name": "stdout",
     "output_type": "stream",
     "text": [
      "Before:  []\n",
      "After:  ['output/get/test.txt']\n"
     ]
    },
    {
     "data": {
      "text/plain": [
       "['/test_get_file']"
      ]
     },
     "execution_count": null,
     "metadata": {},
     "output_type": "execute_result"
    }
   ],
   "source": [
    "#| ignoretest\n",
    "if fs.file.exists('output/get/test.txt'):\n",
    "    fs.file.rm('output/get/test.txt')\n",
    "    \n",
    "fs.ipfs.put(path='output/test.txt', rpath='/test_get_file' ,recursive=True, return_cid=False)\n",
    "print('Before: ', [p.lstrip(os.getcwd()) for p in fs.file.glob('output/get/*.txt')])\n",
    "\n",
    "fs.ipfs.get(rpath='/test_get_file/test.txt', lpath='output/get/test.txt',recursive=True, return_cid=False)\n",
    "print('After: ', [p.lstrip(os.getcwd()) for p in fs.file.glob('output/get/*.txt')])\n",
    "fs.ipfs.rm('/test_get_file')"
   ]
  },
  {
   "cell_type": "markdown",
   "id": "cdedd1a3-c028-469d-a257-174e0bfa6a4e",
   "metadata": {},
   "source": [
    "## Get Remote Folder"
   ]
  },
  {
   "cell_type": "code",
   "execution_count": null,
   "id": "b083df4d-8bf8-4b4d-bc1a-0873081dcec2",
   "metadata": {},
   "outputs": [
    {
     "name": "stdout",
     "output_type": "stream",
     "text": [
      "Before:  []\n",
      "After:  ['output/get/test.txt', 'output/get/test2.txt', 'output/get/test3.txt']\n"
     ]
    }
   ],
   "source": [
    "#| ignoretest\n",
    "if fs.file.exists('output/get'):\n",
    "    fs.file.rm('output/get', recursive=True)\n",
    "    \n",
    "fs.ipfs.put(lpath='output/fol1/fol2', rpath='/test_get_folder')\n",
    "print('Before: ', [p.lstrip(os.getcwd()) for p in fs.file.glob('output/get/*.txt')])\n",
    "fs.ipfs.get(rpath='/test_get_folder', lpath='output/get',recursive=True, return_cid=False)\n",
    "print('After: ', [p.lstrip(os.getcwd()) for p in fs.file.glob('output/get/*.txt')])"
   ]
  },
  {
   "cell_type": "code",
   "execution_count": null,
   "id": "90703436-705b-4de1-9ccd-0d30176d39c1",
   "metadata": {},
   "outputs": [],
   "source": []
  }
 ],
 "metadata": {
  "kernelspec": {
   "display_name": "Python 3.10.8 ('ipfspy')",
   "language": "python",
   "name": "python3"
  },
  "language_info": {
   "codemirror_mode": {
    "name": "ipython",
    "version": 3
   },
   "file_extension": ".py",
   "mimetype": "text/x-python",
   "name": "python",
   "nbconvert_exporter": "python",
   "pygments_lexer": "ipython3",
   "version": "3.10.8"
  },
  "vscode": {
   "interpreter": {
    "hash": "a28cc7f14ddca621db7e7e0bdfe2f442397ede04b003de9f96e5b7aa410f7a4f"
   }
  }
 },
 "nbformat": 4,
 "nbformat_minor": 5
}
