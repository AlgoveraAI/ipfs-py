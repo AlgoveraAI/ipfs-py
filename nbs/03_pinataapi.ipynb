{
 "cells": [
  {
   "cell_type": "code",
   "execution_count": 1,
   "id": "cb1d32e2-a226-46f0-b955-5cdb48701368",
   "metadata": {},
   "outputs": [],
   "source": [
    "# default_exp httpapi"
   ]
  },
  {
   "cell_type": "code",
   "execution_count": 2,
   "id": "11d97fae-f296-4c16-a737-804d30196f54",
   "metadata": {},
   "outputs": [],
   "source": [
    "#hide\n",
    "%load_ext autoreload\n",
    "%autoreload 2"
   ]
  },
  {
   "cell_type": "markdown",
   "id": "e23f5e73-1732-4752-a0b4-cb2ef620aed5",
   "metadata": {},
   "source": [
    "# Pinata\n",
    "> Python API for interacting with Pinata"
   ]
  },
  {
   "cell_type": "code",
   "execution_count": 3,
   "id": "4b7da8bf-686e-4f28-8048-1a8685980794",
   "metadata": {},
   "outputs": [],
   "source": [
    "#hide\n",
    "from nbdev.showdoc import *"
   ]
  },
  {
   "cell_type": "code",
   "execution_count": 4,
   "id": "ff6b52dc-3ac9-478f-970c-454d5fed3990",
   "metadata": {},
   "outputs": [],
   "source": [
    "#export\n",
    "#hide\n",
    "\n",
    "import requests\n",
    "import json"
   ]
  },
  {
   "cell_type": "code",
   "execution_count": 5,
   "id": "09e3c96e-c9ce-4f7c-9afe-d3199479c6d7",
   "metadata": {},
   "outputs": [],
   "source": [
    "#export\n",
    "#upload file\n",
    "def upload_file(cred:str,\n",
    "                path:str,\n",
    "                pinataMetadata=None):\n",
    "\n",
    "    base_url = 'https://api.pinata.cloud/pinning/pinFileToIPFS'\n",
    "\n",
    "    header = {'Authorization': f'Bearer {cred}',\n",
    "             'Content Type':'multipart/form-data'}\n",
    "\n",
    "    f_bytes = {'file':open(path,'rb')}\n",
    "\n",
    "    response = requests.post(base_url, headers=header,files=f_bytes)\n",
    "\n",
    "    return response,response.json()"
   ]
  },
  {
   "cell_type": "code",
   "execution_count": 6,
   "id": "2de1450b-fe7c-4815-943e-bcc0851c15a1",
   "metadata": {},
   "outputs": [],
   "source": [
    "#export\n",
    "#pin ipfs cid\n",
    "def pin(cred:str,\n",
    "        cid:str,\n",
    "        fn=None,\n",
    "        pinataMetadata=None):\n",
    "\n",
    "    base_url = 'https://api.pinata.cloud/pinning/pinByHash'\n",
    "\n",
    "    header = {'Authorization': f'Bearer {cred}'}\n",
    "\n",
    "    data = {\n",
    "                # The 'pinataMetadata' object will not be part of your content added to IPFS\n",
    "                # Pinata simply stores the metadata provided to help you easily query the content you've pinned with Pinata\n",
    "                'pinataMetadata': {\n",
    "                    'name': fn,\n",
    "                    'keyvalues': {}\n",
    "                },\n",
    "                'hashToPin': cid,\n",
    "\n",
    "\n",
    "        }\n",
    "\n",
    "\n",
    "\n",
    "    response = requests.post(base_url, headers=header,json=data)\n",
    "\n",
    "    return response,response.json()"
   ]
  },
  {
   "cell_type": "code",
   "execution_count": 7,
   "id": "70d1016c-928d-435b-8d40-04c94f947c8c",
   "metadata": {},
   "outputs": [],
   "source": [
    "#export\n",
    "#unpin ipfs cid\n",
    "def unpin(cred:str,\n",
    "          cid:str):\n",
    "\n",
    "    base_url = 'https://api.pinata.cloud/pinning/unpin/'\n",
    "\n",
    "    header = {'Authorization': f'Bearer {cred}'}\n",
    "\n",
    "    params = {'hashToUnpin':cid}\n",
    "\n",
    "    response = requests.delete(base_url + cid,headers=header,params=params)\n",
    "\n",
    "    return response,response.status_code"
   ]
  },
  {
   "cell_type": "code",
   "execution_count": 8,
   "id": "3420fc0d-3614-4648-a024-3ca202a8271f",
   "metadata": {},
   "outputs": [],
   "source": [
    "#export\n",
    "#edit metadata of cid\n",
    "def edit_hash(cred:str,\n",
    "              cid:str,\n",
    "              pinataMetaData=None\n",
    "             ):\n",
    "\n",
    "    base_url = 'https://api.pinata.cloud/pinning/hashMetadata'\n",
    "\n",
    "    header = {'Authorization': f'Bearer {cred}'}\n",
    "    \n",
    "    data = pinataMetaData\n",
    "    \n",
    "    data['ipfsPinHash'] = cid\n",
    "\n",
    "    response = requests.put(base_url, headers=header,json=data)\n",
    "\n",
    "    return response,response.status_code"
   ]
  },
  {
   "cell_type": "code",
   "execution_count": 9,
   "id": "53c20b40-06ab-4e4e-a120-dd33742e0947",
   "metadata": {},
   "outputs": [],
   "source": [
    "#export\n",
    "#change pin policy of ipfs cid\n",
    "def pin_policy(cred:str,\n",
    "               cid:str,\n",
    "               replications=int,\n",
    "               region='NYC1',\n",
    "                ):\n",
    "\n",
    "    '''\n",
    "    FRA1 - Frankfurt, Germany (max 2 replications)\n",
    "    NYC1 - New York City, USA (max 2 replications)\n",
    "    '''\n",
    "\n",
    "    base_url = 'https://api.pinata.cloud/pinning/hashPinPolicy'\n",
    "\n",
    "    header = {'Authorization': f'Bearer {cred}'}\n",
    "\n",
    "    data = {'ipfsPinHash': cid,\n",
    "            'newPinPolicy': {\n",
    "                'regions':[{'id': region,'desiredReplicationCount': replications}]\n",
    "            }\n",
    "        }\n",
    "\n",
    "\n",
    "    response = requests.put(base_url, headers=header,json=data)\n",
    "\n",
    "    return response"
   ]
  },
  {
   "cell_type": "code",
   "execution_count": 10,
   "id": "997f9e82-4606-4451-a55d-bfe4e8a53541",
   "metadata": {},
   "outputs": [],
   "source": [
    "#export\n",
    "#set pin policy for all pins\n",
    "def globalpin_policy(cred:str,\n",
    "                     replications:int,\n",
    "                     migratepins:bool,\n",
    "                    region='NYC1'\n",
    "                    ):\n",
    "\n",
    "    '''\n",
    "    FRA1 - Frankfurt, Germany (max 2 replications)\n",
    "    NYC1 - New York City, USA (max 2 replications)\n",
    "    '''\n",
    "\n",
    "    base_url = 'https://api.pinata.cloud/pinning/userPinPolicy'\n",
    "\n",
    "    header = {'Authorization': f'Bearer {cred}'}\n",
    "\n",
    "    data = {\n",
    "            'newPinPolicy': {\n",
    "                'regions': [\n",
    "                    {\n",
    "                        'id': region,\n",
    "                        'desiredReplicationCount': replications\n",
    "                    },\n",
    "                ],\n",
    "                'migratePreviousPins':migratepins\n",
    "            }\n",
    "        }\n",
    "\n",
    "\n",
    "    response = requests.put(base_url, headers=header,data=data)\n",
    "\n",
    "    return response"
   ]
  },
  {
   "cell_type": "code",
   "execution_count": 11,
   "id": "eb1f9313-d722-4b6e-b0f8-48fcd938b2c2",
   "metadata": {},
   "outputs": [],
   "source": [
    "#export\n",
    "#list pinned jobs\n",
    "def get_pinned_jobs(cred:str,\n",
    "                    params=None):\n",
    "\n",
    "    '''\n",
    "    'sort' - Sort the results by the date added to the pinning queue (see value options below)\n",
    "    'ASC' - Sort by ascending dates\n",
    "    'DESC' - Sort by descending dates\n",
    "    'status' - Filter by the status of the job in the pinning queue (see potential statuses below)\n",
    "    'prechecking' - Pinata is running preliminary validations on your pin request.\n",
    "    'searching' - Pinata is actively searching for your content on the IPFS network. This may take some time if your content is isolated.\n",
    "    'retrieving' - Pinata has located your content and is now in the process of retrieving it.\n",
    "    'expired' - Pinata wasn't able to find your content after a day of searching the IPFS network. Please make sure your content is hosted on the IPFS network before trying to pin again.\n",
    "    'over_free_limit' - Pinning this object would put you over the free tier limit. Please add a credit card to continue pinning content.\n",
    "    'over_max_size' - This object is too large of an item to pin. If you're seeing this, please contact us for a more custom solution.\n",
    "    'invalid_object' - The object you're attempting to pin isn't readable by IPFS nodes. Please contact us if you receive this, as we'd like to better understand what you're attempting to pin.\n",
    "    'bad_host_node' - You provided a host node that was either invalid or unreachable. Please make sure all provided host nodes are online and reachable.\n",
    "    'ipfs_pin_hash' - Retrieve the record for a specific IPFS hash\n",
    "    'limit' - Limit the amount of results returned per page of results (default is 5, and max is 1000)\n",
    "    'offset' - Provide the record offset for records being returned. This is how you retrieve records on additional pages (default is 0)\n",
    "    '''\n",
    "\n",
    "    base_url = 'https://api.pinata.cloud/pinning/pinJobs/'\n",
    "\n",
    "    header = {'Authorization': f'Bearer {cred}'}\n",
    "\n",
    "    response = requests.get(base_url, headers=header,params=params)\n",
    "\n",
    "    return response,response.json()"
   ]
  },
  {
   "cell_type": "code",
   "execution_count": 12,
   "id": "942c4e36-1726-4a7c-9f24-e5a3c9bea22a",
   "metadata": {},
   "outputs": [],
   "source": [
    "#export\n",
    "#list pinned files\n",
    "def get_pinned_files(cred:str,\n",
    "                     params=None):\n",
    "\n",
    "    '''\n",
    "    Query Parameters = params\n",
    "\n",
    "    hashContains: (string) - Filter on alphanumeric characters inside of pin hashes. Hashes which do not include the characters passed in will not be returned.\n",
    "    pinStart: (must be in ISO_8601 format) - Exclude pin records that were pinned before the passed in 'pinStart' datetime.\n",
    "    pinEnd: (must be in ISO_8601 format) - Exclude pin records that were pinned after the passed in 'pinEnd' datetime.\n",
    "    unpinStart: (must be in ISO_8601 format) - Exclude pin records that were unpinned before the passed in 'unpinStart' datetime.\n",
    "    unpinEnd: (must be in ISO_8601 format) - Exclude pin records that were unpinned after the passed in 'unpinEnd' datetime.\n",
    "    pinSizeMin: (integer) - The minimum byte size that pin record you're looking for can have\n",
    "    pinSizeMax: (integer) - The maximum byte size that pin record you're looking for can have\n",
    "    status: (string) -\n",
    "        * Pass in 'all' for both pinned and unpinned records\n",
    "        * Pass in 'pinned' for just pinned records (hashes that are currently pinned)\n",
    "        * Pass in 'unpinned' for just unpinned records (previous hashes that are no longer being pinned on pinata)\n",
    "    pageLimit: (integer) - This sets the amount of records that will be returned per API response. (Max 1000)\n",
    "    pageOffset: (integer) - This tells the API how far to offset the record responses. For example,\n",
    "    if there's 30 records that match your query, and you passed in a pageLimit of 10, providing a pageOffset of 10 would return records 11-20.\n",
    "    '''\n",
    "\n",
    "    base_url = 'https://api.pinata.cloud/data/pinList?'\n",
    "\n",
    "    header = {'Authorization': f'Bearer {cred}'}\n",
    "\n",
    "    response = requests.get(base_url, headers=header,params=params)\n",
    "\n",
    "    return response,response.json()"
   ]
  },
  {
   "cell_type": "code",
   "execution_count": 13,
   "id": "618c618a-e086-4a54-a5b7-cda3ef342893",
   "metadata": {},
   "outputs": [],
   "source": [
    "#export\n",
    "#get data usage stats\n",
    "def get_datausage(cred:str,params=None):\n",
    "\n",
    "    header = {'Authorization': f'Bearer {cred}'}\n",
    "\n",
    "    base_url = 'https://api.pinata.cloud/data/userPinnedDataTotal'\n",
    "\n",
    "    response = requests.get(base_url, headers=header,params=params)\n",
    "\n",
    "    return response,response.json()"
   ]
  },
  {
   "cell_type": "code",
   "execution_count": 14,
   "id": "58b25967-21f2-4048-8b94-925f7e50a428",
   "metadata": {},
   "outputs": [
    {
     "name": "stdout",
     "output_type": "stream",
     "text": [
      "Converted 00_utils.ipynb.\n",
      "Converted 01_httpapi.ipynb.\n",
      "Converted 02_estuaryapi.ipynb.\n",
      "Converted 03_pinataapi.ipynb.\n",
      "Converted index.ipynb.\n"
     ]
    }
   ],
   "source": [
    "#hide\n",
    "from nbdev.export import *\n",
    "notebook2script()"
   ]
  }
 ],
 "metadata": {
  "kernelspec": {
   "display_name": "Python 3 (ipykernel)",
   "language": "python",
   "name": "python3"
  },
  "language_info": {
   "codemirror_mode": {
    "name": "ipython",
    "version": 3
   },
   "file_extension": ".py",
   "mimetype": "text/x-python",
   "name": "python",
   "nbconvert_exporter": "python",
   "pygments_lexer": "ipython3",
   "version": "3.9.7"
  }
 },
 "nbformat": 4,
 "nbformat_minor": 5
}
