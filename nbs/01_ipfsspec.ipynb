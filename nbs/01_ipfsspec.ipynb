{
 "cells": [
  {
   "cell_type": "code",
   "execution_count": 1,
   "id": "6aed6129",
   "metadata": {},
   "outputs": [],
   "source": [
    "# default_exp ipfsspec"
   ]
  },
  {
   "cell_type": "code",
   "execution_count": 2,
   "id": "905db426",
   "metadata": {},
   "outputs": [],
   "source": [
    "#hide\n",
    "%load_ext autoreload\n",
    "%autoreload 2"
   ]
  },
  {
   "cell_type": "code",
   "execution_count": 3,
   "id": "66f051ee-a4ce-47f9-a085-cacc4e0cf20f",
   "metadata": {},
   "outputs": [],
   "source": [
    "# import sys\n",
    "# sys.path.append(\"../\")"
   ]
  },
  {
   "cell_type": "markdown",
   "id": "871e4d9a",
   "metadata": {
    "tags": []
   },
   "source": [
    "# IPFSSpec\n",
    "\n",
    "> Read and Write implementation FSSpec for IPFS "
   ]
  },
  {
   "cell_type": "code",
   "execution_count": 4,
   "id": "73d3abe1",
   "metadata": {},
   "outputs": [],
   "source": [
    "#hide\n",
    "from nbdev.showdoc import *"
   ]
  },
  {
   "cell_type": "code",
   "execution_count": 5,
   "id": "0e8cd30b",
   "metadata": {},
   "outputs": [],
   "source": [
    "#export\n",
    "from os.path import isdir\n",
    "from typing import Union, List\n",
    "import json\n",
    "import random\n",
    "import time\n",
    "import requests\n",
    "import pandas as pd\n",
    "import imageio\n",
    "from io import StringIO,BytesIO\n",
    "from requests.exceptions import HTTPError\n",
    "from fsspec.spec import AbstractFileSystem\n",
    "from ipfsspec.core import IPFSBufferedFile\n",
    "from ipfshttpclient.multipart import stream_files, stream_directory"
   ]
  },
  {
   "cell_type": "code",
   "execution_count": 6,
   "id": "b8e17c52",
   "metadata": {},
   "outputs": [],
   "source": [
    "#export \n",
    "from ipfspy.utils import GATEWAYS_API_READ, GATEWAYS_API_WRITE, parse_error_message, parse_response, get_coreurl"
   ]
  },
  {
   "cell_type": "markdown",
   "id": "64c8bf67",
   "metadata": {},
   "source": [
    "## IPFSGateway"
   ]
  },
  {
   "cell_type": "code",
   "execution_count": null,
   "id": "523ef25a",
   "metadata": {},
   "outputs": [],
   "source": [
    "#export\n",
    "class IPFSGateway:\n",
    "    def __init__(self, \n",
    "        local:bool=True, # Use local IPFS deamon or not\n",
    "        coreurl:str=None, # Core URL of an alterative gateways to use \n",
    "    ):\n",
    "        'Starts a IPFS Gateway either using local node or infura. If given `coreurl`, will use that for the gateway'\n",
    "        self.coreurl = coreurl\n",
    "        if self.coreurl is None:\n",
    "            self.url = self.get_gateway(local=local)\n",
    "            \n",
    "        else:\n",
    "            self.url = self.get_gateway(coreurl=coreurl)\n",
    "            \n",
    "        self.session = requests.Session()\n",
    "        adapter = requests.adapters.HTTPAdapter(pool_connections=100, pool_maxsize=100)\n",
    "        self.session.mount('http://', adapter)\n",
    "        self.session.mount('https://', adapter)\n",
    "    \n",
    "    def get_gateway(self,\n",
    "        local:bool=True, # If local uses local node, else uses Infura.io gateway\n",
    "        coreurl:str=None, # URL of other gateways\n",
    "    ):\n",
    "        'Set the core url for convenience'\n",
    "        \n",
    "        return get_coreurl(local=local, coreurl=coreurl)\n",
    "\n",
    "        \n",
    "    def get(self, \n",
    "        cid:str, # Path to the IPFS object\n",
    "        **kwargs\n",
    "    ):\n",
    "        'Get a file/directory from IPFS'\n",
    "        \n",
    "        params = {}\n",
    "        params['arg'] = cid\n",
    "        params.update(kwargs)\n",
    "        \n",
    "        res = self.session.post(f'{self.url}/get', params=params)\n",
    "            \n",
    "        if res.status_code == 200:\n",
    "            return res, parse_response(res)\n",
    "        \n",
    "        else:\n",
    "            raise HTTPError (parse_error_message(res))\n",
    "            \n",
    "    def cat(self, \n",
    "        cid:str, # Path to the IPFS object\n",
    "        **kwargs\n",
    "    ):\n",
    "        'Read a file from IPFS'\n",
    "        \n",
    "        params = {}\n",
    "        params['arg'] = cid\n",
    "        params.update(kwargs)\n",
    "        \n",
    "        res = self.session.post(f'{self.url}/cat', params=params)\n",
    "        \n",
    "        if res.status_code == 200:\n",
    "            return res, res.text\n",
    "        \n",
    "        else:\n",
    "            if res.status_code == 500:\n",
    "                raise TypeError (f\"dag node {path} is a directory; Provide a file CID\")\n",
    "            else:\n",
    "                raise HTTPError (parse_error_message(res))\n",
    "\n",
    "    def apipost(self, \n",
    "        call:str, # The call type to post e.g. 'add', 'ls', 'pin/add', 'pin/ls'\n",
    "        filepath:Union[str, List[str]]=None, # Path to files or directory or IPFS Path\n",
    "        directory:bool=False, # Is filepath a directory \n",
    "        chunk_size=200000, # Chunk size to use\n",
    "        **kwargs): \n",
    "        'Makes `post` call to the HTTP APPI'\n",
    "    \n",
    "        \n",
    "        if call == 'add':\n",
    "            if isdir(filepath):\n",
    "                if directory == False:\n",
    "                    raise TypeError (f\"{filepath} is a directory. Set arg directory as True\")\n",
    "            \n",
    "            params = {}\n",
    "            params.update(kwargs)\n",
    "            \n",
    "            if not directory:\n",
    "                data, headers = stream_files(filepath, chunk_size=chunk_size)\n",
    "\n",
    "            else:\n",
    "                data, headers = stream_directory(filepath, chunk_size=chunk_size)\n",
    "            \n",
    "            res = self.session.post(f'{self.url}/add',\n",
    "                                     params=params,\n",
    "                                     data=data,\n",
    "                                     headers=headers)\n",
    "            \n",
    "            if res.status_code == 200:\n",
    "                return res, parse_response(res)\n",
    "            \n",
    "            else:\n",
    "                raise HTTPError (parse_error_message(res))\n",
    "                \n",
    "        else:\n",
    "            params = {}\n",
    "            params['arg'] = filepath\n",
    "            params.update(kwargs)\n",
    "            \n",
    "            res = self.session.post(f'{self.url}/{call}', params=params)\n",
    "                \n",
    "            if res.status_code == 200:\n",
    "                return res, parse_response(res)\n",
    "            \n",
    "            else:\n",
    "                raise HTTPError (parse_error_message(res))\n",
    "\n",
    "    def head(self, \n",
    "        cid:str, # Path to the IPFS object\n",
    "        headers=None, \n",
    "        **kwargs\n",
    "    ):     \n",
    "        \n",
    "        res,_ = self.get(cid)\n",
    "        \n",
    "        return res.headers"
   ]
  },
  {
   "cell_type": "markdown",
   "id": "29d722e0",
   "metadata": {},
   "source": [
    "### Using IPFSGateway\n",
    "\n",
    "Using local-node supports all function. Infura gateway supports both read and write but not the complete set as offered by the local-node. We have a list of read and read/write gateways. You can access them as such:"
   ]
  },
  {
   "cell_type": "code",
   "execution_count": null,
   "id": "095253e6",
   "metadata": {},
   "outputs": [],
   "source": [
    "#ignoretest\n",
    "GATEWAYS_API_READ"
   ]
  },
  {
   "cell_type": "code",
   "execution_count": null,
   "id": "1db812fd",
   "metadata": {},
   "outputs": [],
   "source": [
    "#ignoretest\n",
    "GATEWAYS_API_WRITE"
   ]
  },
  {
   "cell_type": "markdown",
   "id": "a028cac2",
   "metadata": {},
   "source": [
    "In this doc, we will be using the local-node unless specified. \n",
    "\n",
    "Extending a client session using the local node."
   ]
  },
  {
   "cell_type": "code",
   "execution_count": null,
   "id": "89c518cf",
   "metadata": {},
   "outputs": [],
   "source": [
    "#ignoretest\n",
    "gw = IPFSGateway(local=True); gw.url"
   ]
  },
  {
   "cell_type": "markdown",
   "id": "a6665fa3",
   "metadata": {},
   "source": [
    "Extending a client session using infura."
   ]
  },
  {
   "cell_type": "code",
   "execution_count": null,
   "id": "3a6e8fca",
   "metadata": {},
   "outputs": [],
   "source": [
    "#ignoretest\n",
    "gw = IPFSGateway(local=False); gw.url"
   ]
  },
  {
   "cell_type": "markdown",
   "id": "c51aa8e2",
   "metadata": {},
   "source": [
    "Extending a client session using a public gateway."
   ]
  },
  {
   "cell_type": "code",
   "execution_count": null,
   "id": "7af3ef9a",
   "metadata": {},
   "outputs": [],
   "source": [
    "#ignoretest\n",
    "gw = IPFSGateway(coreurl=random.choice(GATEWAYS_API_READ)); gw.url"
   ]
  },
  {
   "cell_type": "code",
   "execution_count": null,
   "id": "64dab587",
   "metadata": {},
   "outputs": [],
   "source": [
    "#ignoretest\n",
    "show_doc(IPFSGateway.get)"
   ]
  },
  {
   "cell_type": "markdown",
   "id": "a401dacc",
   "metadata": {},
   "source": [
    "Let's use a local-node to get a IPFS file"
   ]
  },
  {
   "cell_type": "code",
   "execution_count": null,
   "id": "41d4cb1c",
   "metadata": {},
   "outputs": [],
   "source": [
    "#ignoretest\n",
    "gw = IPFSGateway(local=True)"
   ]
  },
  {
   "cell_type": "code",
   "execution_count": null,
   "id": "48eeb367",
   "metadata": {},
   "outputs": [],
   "source": [
    "#ignoretest\n",
    "res, cont = gw.get('QmWAQjxm6CKaAjHjwPSqWmN8RMecuHS1bxEufqCNVSq96e'); cont[500:700]"
   ]
  },
  {
   "cell_type": "markdown",
   "id": "3ed57e46",
   "metadata": {},
   "source": [
    "Use the `cat` function which return the file without the headers and other stuffs that the `get` method returns."
   ]
  },
  {
   "cell_type": "code",
   "execution_count": null,
   "id": "eeed5cd9",
   "metadata": {},
   "outputs": [],
   "source": [
    "#ignoretest\n",
    "show_doc(IPFSGateway.cat)"
   ]
  },
  {
   "cell_type": "code",
   "execution_count": null,
   "id": "bd5fe903",
   "metadata": {},
   "outputs": [],
   "source": [
    "#ignoretest\n",
    "res, cont = gw.cat('QmWAQjxm6CKaAjHjwPSqWmN8RMecuHS1bxEufqCNVSq96e'); cont[:5]"
   ]
  },
  {
   "cell_type": "markdown",
   "id": "f9d756ed",
   "metadata": {},
   "source": [
    "Like previously mentioned, infura supports read and write but not the complete set of functions that comes with the local node. Let's see an example. Here, the `ls` call lists the content of a directory. Let's try the same thing with `infura`"
   ]
  },
  {
   "cell_type": "code",
   "execution_count": null,
   "id": "5b631028",
   "metadata": {},
   "outputs": [],
   "source": [
    "#ignoretest\n",
    "r, res = gw.apipost(call='ls', filepath='QmWAQjxm6CKaAjHjwPSqWmN8RMecuHS1bxEufqCNVSq96e'); len(res[0])"
   ]
  },
  {
   "cell_type": "code",
   "execution_count": null,
   "id": "4b0cca44",
   "metadata": {},
   "outputs": [],
   "source": [
    "#ignoretest\n",
    "gw = IPFSGateway(local=False)\n",
    "r, res = gw.apipost(call='ls', filepath='QmWAQjxm6CKaAjHjwPSqWmN8RMecuHS1bxEufqCNVSq96e'); len(res[0])"
   ]
  },
  {
   "cell_type": "markdown",
   "id": "68643db1",
   "metadata": {},
   "source": [
    "As can be inferred from the error message, `ls` call is not supported by inura ar this point. "
   ]
  },
  {
   "cell_type": "markdown",
   "id": "da9865f3",
   "metadata": {},
   "source": [
    "## IPFSFileSystem (fsspec-like)"
   ]
  },
  {
   "cell_type": "code",
   "execution_count": null,
   "id": "6c5b9672",
   "metadata": {},
   "outputs": [],
   "source": [
    "#export\n",
    "class IPFSFileSystem(AbstractFileSystem):\n",
    "    protocol = \"ipfs\"\n",
    "    def __init__(self, \n",
    "        local=True, # Use local IPFS deamon or not\n",
    "        coreurl:str=None, # Core URL of an alterative gateways to use \n",
    "        **kwargs):\n",
    "        'fsspec like read/write IPFS filesystem'\n",
    "        \n",
    "        super(IPFSFileSystem, self).__init__(local, **kwargs)\n",
    "        \n",
    "        if coreurl is None:\n",
    "            self.gw = IPFSGateway(local=local)\n",
    "        \n",
    "        else:\n",
    "            self.gw = IPFSGateway(coreurl)\n",
    "    \n",
    "    def ls(self, \n",
    "        cid:str, # Path of the IPFS object\n",
    "        detail=True, # Verbose\n",
    "        **kwargs):\n",
    "        'List the links of a IPFS file/directory'\n",
    "        \n",
    "        _, res = self.gw.apipost(\"ls\", arg=cid)\n",
    "        \n",
    "        links = res[0][\"Objects\"][0][\"Links\"]\n",
    "        types = {1: \"directory\", 2: \"file\"}\n",
    "        \n",
    "        if detail:\n",
    "            return [{\"name\": cid + \"/\" + link[\"Name\"],\n",
    "                     \"size\": link[\"Size\"],\n",
    "                     \"type\": types[link[\"Type\"]]}\n",
    "                    for link in links]\n",
    "        \n",
    "        else:\n",
    "            return [cid + \"/\" + link[\"Name\"]\n",
    "                    for link in links]\n",
    "        \n",
    "    def cat_file(self, \n",
    "        cid:str, # Path of the IPFS object\n",
    "    ):        \n",
    "        \n",
    "        r, data = self.gw.cat(cid)      \n",
    "        \n",
    "        return r.content\n",
    "                \n",
    "    def _open(\n",
    "        self,\n",
    "        cid, # Path of the IPFS object\n",
    "        mode=\"rb\",\n",
    "        block_size=None,\n",
    "        autocommit=True,\n",
    "        cache_options=None,\n",
    "        **kwargs\n",
    "    ):\n",
    "        'Return raw bytes-mode file-like from the file-system'\n",
    "        \n",
    "        return IPFSBufferedFile(\n",
    "            self,\n",
    "            cid,\n",
    "            mode,\n",
    "            block_size,\n",
    "            autocommit,\n",
    "            cache_options=cache_options,\n",
    "            **kwargs\n",
    "        )\n",
    "    \n",
    "    def info(self, \n",
    "        cid, # Path of the IPFS object\n",
    "        **kwargs):\n",
    "        \n",
    "        path = self._strip_protocol(cid)\n",
    "\n",
    "        headers = {\"Accept-Encoding\": \"identity\"}  # this ensures correct file size\n",
    "        response_headers = self.gw.head(cid, headers)\n",
    "\n",
    "        info = {\"name\": cid}\n",
    "        if \"X-Content-Length\" in response_headers:\n",
    "            info[\"size\"] = int(response_headers[\"X-Content-Length\"])\n",
    "        elif \"X-Content-Range\" in response_headers:\n",
    "            info[\"size\"] = int(response_headers[\"X-Content-Range\"].split(\"/\")[1])\n",
    "\n",
    "        if \"ETag\" in response_headers:\n",
    "            etag = response_headers[\"ETag\"].strip(\"\\\"\")\n",
    "            info[\"ETag\"] = etag\n",
    "            if etag.startswith(\"DirIndex\"):\n",
    "                info[\"type\"] = \"directory\"\n",
    "                info[\"CID\"] = etag.split(\"-\")[-1]\n",
    "            else:\n",
    "                info[\"type\"] = \"file\"\n",
    "                info[\"CID\"] = etag\n",
    "        return info\n",
    "    \n",
    "    def write(self,\n",
    "        filepath, # Path to file/files/directories to write to IPFS\n",
    "        directory=False, # Is filepath a directory\n",
    "        chunk_size=200000, # Chunk size to use\n",
    "        **kwargs\n",
    "    ):\n",
    "        'Write the given file/files/directories to the IPFS network'\n",
    "        \n",
    "        return self.gw.apipost('add', filepath=filepath, directory=directory, chunk_size=chunk_size, **kwargs)\n",
    "    \n",
    "    def read_csv(self, \n",
    "        cid:str,\n",
    "        delimeter:str=','\n",
    "    ):\n",
    "        r, data = self.gw.cat(cid)      \n",
    "        \n",
    "        return pd.read_csv(StringIO(data), delimiter=delimeter)\n",
    "    \n",
    "    def read_json(self, \n",
    "        cid:str, \n",
    "    ):\n",
    "        r, data = self.gw.cat(cid)      \n",
    "        \n",
    "        return pd.read_json(StringIO(data))\n",
    "    \n",
    "    def read_image(self,\n",
    "        cid:str,\n",
    "    ):\n",
    "        data = self.cat_file(cid)\n",
    "        \n",
    "        return imageio.v2.imread(BytesIO(data))"
   ]
  },
  {
   "cell_type": "markdown",
   "id": "12cbecdc",
   "metadata": {},
   "source": [
    "### Using IPFSSpec"
   ]
  },
  {
   "cell_type": "code",
   "execution_count": null,
   "id": "30176b67",
   "metadata": {},
   "outputs": [],
   "source": [
    "#ignoretest\n",
    "fs = IPFSFileSystem(local=True)"
   ]
  },
  {
   "cell_type": "markdown",
   "id": "da2aeb38",
   "metadata": {},
   "source": [
    "call the `ls` method to list the directories"
   ]
  },
  {
   "cell_type": "code",
   "execution_count": null,
   "id": "c0e79f20",
   "metadata": {},
   "outputs": [],
   "source": [
    "#ignoretest\n",
    "res = fs.ls('QmZnxARhJWsCbTxiAzoRhnxHgMtoEkNJNS8DGLCBEMvm4V'); res"
   ]
  },
  {
   "cell_type": "markdown",
   "id": "e5958693",
   "metadata": {},
   "source": [
    "Use the `open` and `read` on a IPFS file"
   ]
  },
  {
   "cell_type": "code",
   "execution_count": null,
   "id": "044598cd",
   "metadata": {},
   "outputs": [],
   "source": [
    "#ignoretest\n",
    "fs.open('QmWAQjxm6CKaAjHjwPSqWmN8RMecuHS1bxEufqCNVSq96e').read()[:10]"
   ]
  },
  {
   "cell_type": "markdown",
   "id": "f7c76a84",
   "metadata": {},
   "source": [
    "`Write` a file, files or a directory to IPFS"
   ]
  },
  {
   "cell_type": "code",
   "execution_count": null,
   "id": "7ac04103",
   "metadata": {},
   "outputs": [],
   "source": [
    "#ignoretest\n",
    "fs.write('output', directory=True)"
   ]
  },
  {
   "cell_type": "markdown",
   "id": "a793b0ed",
   "metadata": {},
   "source": [
    "Read a csv straight from IPFS into a `pandas` object"
   ]
  },
  {
   "cell_type": "code",
   "execution_count": null,
   "id": "67ebef54",
   "metadata": {},
   "outputs": [],
   "source": [
    "#ignoretest\n",
    "df = fs.read_csv('QmZnxARhJWsCbTxiAzoRhnxHgMtoEkNJNS8DGLCBEMvm4V'); df.head()"
   ]
  },
  {
   "cell_type": "markdown",
   "id": "96202af5",
   "metadata": {},
   "source": [
    "Similarly, read a json straight from IPFS into a `pandas` object"
   ]
  },
  {
   "cell_type": "code",
   "execution_count": null,
   "id": "32b11541",
   "metadata": {},
   "outputs": [],
   "source": [
    "#ignoretest\n",
    "df = fs.read_json('QmUUSHH2ycqciruPaRcptpUQDDeRiMV3G9PxA6KUupXTJV'); df.head()"
   ]
  },
  {
   "cell_type": "code",
   "execution_count": null,
   "id": "eb296caf",
   "metadata": {},
   "outputs": [],
   "source": [
    "#ignoretest\n",
    "from matplotlib import pyplot as plt\n",
    "\n",
    "img = fs.read_image(\"bafybeieyrzfz46sfmagpwerlzrutr3didbu3nii3oiwk2tbc7rze25m52a\")\n",
    "plt.figure(figsize=(10,7))\n",
    "plt.imshow(img, interpolation='nearest')\n",
    "plt.axis('off')\n",
    "plt.show()\n"
   ]
  },
  {
   "cell_type": "code",
   "execution_count": null,
   "id": "594f122b-9ee0-4f3d-a44a-18eafb82cc86",
   "metadata": {},
   "outputs": [],
   "source": []
  }
 ],
 "metadata": {
  "kernelspec": {
   "display_name": "Python 3 (ipykernel)",
   "language": "python",
   "name": "python3"
  },
  "language_info": {
   "codemirror_mode": {
    "name": "ipython",
    "version": 3
   },
   "file_extension": ".py",
   "mimetype": "text/x-python",
   "name": "python",
   "nbconvert_exporter": "python",
   "pygments_lexer": "ipython3",
   "version": "3.10.4"
  }
 },
 "nbformat": 4,
 "nbformat_minor": 5
}
