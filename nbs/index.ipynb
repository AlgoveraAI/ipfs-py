{
 "cells": [
  {
   "cell_type": "markdown",
   "metadata": {},
   "source": [
    "# Welcome to IPFSPy by Algovera\n",
    "\n",
    "> A python library by Algovera to interact with IPFS and IPFS ecosystem such as the common pinning services"
   ]
  },
  {
   "cell_type": "markdown",
   "metadata": {},
   "source": [
    "## What is IPFSPy?"
   ]
  },
  {
   "cell_type": "markdown",
   "metadata": {},
   "source": [
    "IPFSPy is a python library by Algovera to interact with IPFS and IPFS ecosystem such as the common pinning services. It is designed by data scientists for data scientists to interact with the IPFS ecosystem without leaving the comfort of python and jupyter notebook.\n",
    "\n",
    "You can learn more about IPFS [here](https://ipfs.io/#why).\n",
    "\n",
    "IPFS is built using the go-lang or javascript. With IPFSPy, you can interact with IPFS using the exposed [HTTP RPC API](https://docs.ipfs.io/reference/http/api/#getting-started). \n",
    "\n",
    "\n",
    "\n",
    "Ipfspy has two different implementations to interact with IPFS\n",
    "\n",
    "\n",
    "1. Access to most of what HTTP RPC API through `ipfspy.ipfshttpapi`\n",
    "\n",
    "    With `ipfspy.ipfshttpapi`, you can either use local, infura or public nodes. In order to use local node, you will need a IPFS deamon running in the form of IPFS Desktop, IPFS Campanion or IPFS CLI. As an alternative, you can connect via the [Infura](https://infura.io/product/ipfs)'s dedicated IPFS gateway. \n",
    "    \n",
    "2. [fsspec](https://filesystem-spec.readthedocs.io/en/latest/)-like implementation through `ipfspy.ipfspec`\n",
    "\n",
    "    What is ipfsspec?\n",
    "    \n",
    "    ipfsspec is the fsspec-like implementation for IPFS. Through `ipfspy.ipfsspec`, you get access to both `local` and `infura` nodes but the `public` node is read-only. `Local` node offers both read and write. In order to use `local` node, you will need a local node running locally through IPFS Desktop or IPFS Companion or the IPFS CLI.\n",
    "\n",
    "    Advantages of fsspec-like implementations\n",
    "     - many data science libraries like `dask`, `pandas` and `xarray` uses fsspec for path and file handling\n",
    "     - provides an uniform APIs\n",
    "     \n",
    "    Since many data science use fsspec, by implementing ipfsspec, fsspec supports IPFS.\n",
    "     "
   ]
  },
  {
   "cell_type": "markdown",
   "metadata": {},
   "source": [
    "## Installing"
   ]
  },
  {
   "cell_type": "markdown",
   "metadata": {},
   "source": [
    "You can install the library simply through "
   ]
  },
  {
   "cell_type": "markdown",
   "metadata": {},
   "source": [
    "`pip install ipfspy`"
   ]
  },
  {
   "cell_type": "markdown",
   "metadata": {},
   "source": [
    "If you plan to contribute to this library, \n",
    "1. clone the repo locally \n",
    "`git clone https://github.com/algoveraai/ipfspy`\n",
    "\n",
    "2. Install an editable version of the repo\n",
    "`pip install -e .[dev]`\n",
    "\n",
    "3. submit PR\n"
   ]
  },
  {
   "cell_type": "markdown",
   "metadata": {},
   "source": [
    "## How to use"
   ]
  },
  {
   "cell_type": "markdown",
   "metadata": {},
   "source": [
    "### ipfshttpapi"
   ]
  },
  {
   "cell_type": "code",
   "execution_count": null,
   "metadata": {},
   "outputs": [],
   "source": [
    "#|hide\n",
    "#|ignoretest\n",
    "from ipfspy.ipfshttpapi import IPFSApi"
   ]
  },
  {
   "cell_type": "markdown",
   "metadata": {},
   "source": [
    "Extend the IPFSApi"
   ]
  },
  {
   "cell_type": "code",
   "execution_count": null,
   "metadata": {},
   "outputs": [
    {
     "name": "stdout",
     "output_type": "stream",
     "text": [
      "Changed to local node\n"
     ]
    }
   ],
   "source": [
    "#| ignoretest\n",
    "api = IPFSApi()"
   ]
  },
  {
   "cell_type": "markdown",
   "metadata": {},
   "source": [
    "Change to other nodes like below. You can choose one of `local` `infura` or `public`"
   ]
  },
  {
   "cell_type": "code",
   "execution_count": null,
   "metadata": {},
   "outputs": [
    {
     "name": "stdout",
     "output_type": "stream",
     "text": [
      "Changed to infura node\n"
     ]
    }
   ],
   "source": [
    "#| ignoretest\n",
    "api.change_gateway_type = 'infura', auth"
   ]
  },
  {
   "cell_type": "code",
   "execution_count": null,
   "metadata": {},
   "outputs": [
    {
     "name": "stdout",
     "output_type": "stream",
     "text": [
      "Changed to local node\n"
     ]
    }
   ],
   "source": [
    "#| ignoretest\n",
    "api.change_gateway_type = 'local', None"
   ]
  },
  {
   "cell_type": "markdown",
   "metadata": {},
   "source": [
    "To add a file to IPFS,"
   ]
  },
  {
   "cell_type": "code",
   "execution_count": null,
   "metadata": {},
   "outputs": [
    {
     "data": {
      "text/plain": [
       "[{'Name': 'test.txt', 'Bytes': 20},\n",
       " {'Name': 'test.txt',\n",
       "  'Hash': 'QmbwFKzLj9m2qwBFYTVrBotf4QujvzTb1GBV9wFcNPMctm',\n",
       "  'Size': '28'}]"
      ]
     },
     "execution_count": null,
     "metadata": {},
     "output_type": "execute_result"
    }
   ],
   "source": [
    "#| ignoretest\n",
    "res, obj = api.add_items('output/test.txt'); obj"
   ]
  },
  {
   "cell_type": "markdown",
   "metadata": {},
   "source": [
    "To retrieve a file from IPFS"
   ]
  },
  {
   "cell_type": "code",
   "execution_count": null,
   "metadata": {},
   "outputs": [
    {
     "data": {
      "text/plain": [
       "\"\\n'''\\nFirst file\\n'''\\n\""
      ]
     },
     "execution_count": null,
     "metadata": {},
     "output_type": "execute_result"
    }
   ],
   "source": [
    "#| ignoretest\n",
    "\n",
    "response, content = api.cat_items(cid='QmbwFKzLj9m2qwBFYTVrBotf4QujvzTb1GBV9wFcNPMctm'); content"
   ]
  },
  {
   "cell_type": "markdown",
   "metadata": {},
   "source": [
    "### ipfsspec"
   ]
  },
  {
   "cell_type": "code",
   "execution_count": null,
   "metadata": {},
   "outputs": [],
   "source": [
    "#|ignoretest\n",
    "import fsspec, io, os, asyncio\n",
    "from ipfspy.ipfsspec.asyn import AsyncIPFSFileSystem\n",
    "from fsspec import register_implementation"
   ]
  },
  {
   "cell_type": "markdown",
   "metadata": {},
   "source": [
    "Register the ipfsspec to fsspec "
   ]
  },
  {
   "cell_type": "code",
   "execution_count": null,
   "metadata": {},
   "outputs": [
    {
     "name": "stdout",
     "output_type": "stream",
     "text": [
      "Changed to local node\n"
     ]
    }
   ],
   "source": [
    "#|ignoretest\n",
    "register_implementation(AsyncIPFSFileSystem.protocol, AsyncIPFSFileSystem)\n",
    "class fs:\n",
    "    ipfs = fsspec.filesystem(\"ipfs\")\n",
    "    file = fsspec.filesystem(\"file\")"
   ]
  },
  {
   "cell_type": "markdown",
   "metadata": {},
   "source": [
    "Like `ipfspy.ipfshttpapi`, you can change the node as such"
   ]
  },
  {
   "cell_type": "code",
   "execution_count": null,
   "metadata": {},
   "outputs": [
    {
     "name": "stdout",
     "output_type": "stream",
     "text": [
      "Changed to public node\n"
     ]
    }
   ],
   "source": [
    "#|ignoretest\n",
    "fs.ipfs.change_gateway_type = 'public'"
   ]
  },
  {
   "cell_type": "code",
   "execution_count": null,
   "metadata": {},
   "outputs": [
    {
     "name": "stdout",
     "output_type": "stream",
     "text": [
      "Changed to local node\n"
     ]
    }
   ],
   "source": [
    "#|ignoretest\n",
    "fs.ipfs.change_gateway_type = 'local'"
   ]
  },
  {
   "cell_type": "markdown",
   "metadata": {},
   "source": [
    "Add a file to IPFS using fsspec-like api"
   ]
  },
  {
   "cell_type": "code",
   "execution_count": null,
   "metadata": {},
   "outputs": [
    {
     "data": {
      "text/plain": [
       "'QmbwFKzLj9m2qwBFYTVrBotf4QujvzTb1GBV9wFcNPMctm'"
      ]
     },
     "execution_count": null,
     "metadata": {},
     "output_type": "execute_result"
    }
   ],
   "source": [
    "#|ignoretest\n",
    "put_file_res = fs.ipfs.put(path='output/test.txt', rpath='/test_put_file'); put_file_res"
   ]
  },
  {
   "cell_type": "markdown",
   "metadata": {},
   "source": [
    "Retrieve a file from IPFs using fsspec-like api"
   ]
  },
  {
   "cell_type": "code",
   "execution_count": null,
   "metadata": {},
   "outputs": [
    {
     "data": {
      "text/plain": [
       "b\"\\n'''\\nFirst file\\n'''\\n\""
      ]
     },
     "execution_count": null,
     "metadata": {},
     "output_type": "execute_result"
    }
   ],
   "source": [
    "#|ignoretest\n",
    "fs.ipfs.cat('QmbwFKzLj9m2qwBFYTVrBotf4QujvzTb1GBV9wFcNPMctm')"
   ]
  },
  {
   "cell_type": "code",
   "execution_count": null,
   "metadata": {},
   "outputs": [],
   "source": []
  }
 ],
 "metadata": {
  "kernelspec": {
   "display_name": "Python 3.6.9 64-bit",
   "language": "python",
   "name": "python3"
  }
 },
 "nbformat": 4,
 "nbformat_minor": 4
}
