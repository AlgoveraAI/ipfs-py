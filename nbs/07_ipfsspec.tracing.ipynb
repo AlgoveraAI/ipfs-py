{
 "cells": [
  {
   "cell_type": "code",
   "execution_count": null,
   "id": "e76fd36f",
   "metadata": {},
   "outputs": [],
   "source": [
    "#| default_exp tracing"
   ]
  },
  {
   "cell_type": "markdown",
   "id": "3ba1b7ac",
   "metadata": {},
   "source": [
    "# ipfsspec tracing\n",
    "\n",
    "> Tracing implementation for ipfsspec"
   ]
  },
  {
   "cell_type": "code",
   "execution_count": null,
   "id": "38b8f1e8",
   "metadata": {},
   "outputs": [],
   "source": [
    "#| hide\n",
    "from nbdev.showdoc import *"
   ]
  },
  {
   "cell_type": "code",
   "execution_count": null,
   "id": "b3075cc1",
   "metadata": {},
   "outputs": [],
   "source": [
    "#|export\n",
    "import asyncio\n",
    "import aiohttp"
   ]
  },
  {
   "cell_type": "code",
   "execution_count": null,
   "id": "7c1c6242",
   "metadata": {},
   "outputs": [],
   "source": [
    "#|export\n",
    "class GatewayTracer:\n",
    "    def __init__(self):\n",
    "        from collections import defaultdict\n",
    "        self.samples = defaultdict(list)\n",
    "\n",
    "    def make_trace_config(self):\n",
    "        trace_config = aiohttp.TraceConfig()\n",
    "        trace_config.on_request_start.append(self.on_request_start)\n",
    "        trace_config.on_request_end.append(self.on_request_end)\n",
    "        return trace_config\n",
    "\n",
    "    async def on_request_start(self, session, trace_config_ctx, params):\n",
    "        trace_config_ctx.start = asyncio.get_event_loop().time()\n",
    "\n",
    "    async def on_request_end(self, session, trace_config_ctx, params):\n",
    "        trace_config_ctx.end = asyncio.get_event_loop().time()\n",
    "        elapsed = trace_config_ctx.end - trace_config_ctx.start\n",
    "        status = params.response.status\n",
    "        gateway = trace_config_ctx.trace_request_ctx.get(\"gateway\", None)\n",
    "        self.samples[gateway].append({\"url\": params.url, \"method\": params.method, \"elapsed\": elapsed, \"status\": status})"
   ]
  },
  {
   "cell_type": "code",
   "execution_count": null,
   "id": "7abed54e",
   "metadata": {},
   "outputs": [],
   "source": [
    "#|hide\n",
    "from nbdev.doclinks import *\n",
    "nbdev_export()"
   ]
  },
  {
   "cell_type": "code",
   "execution_count": null,
   "id": "218213de",
   "metadata": {},
   "outputs": [],
   "source": []
  }
 ],
 "metadata": {
  "kernelspec": {
   "display_name": "Python 3 (ipykernel)",
   "language": "python",
   "name": "python3"
  }
 },
 "nbformat": 4,
 "nbformat_minor": 5
}
